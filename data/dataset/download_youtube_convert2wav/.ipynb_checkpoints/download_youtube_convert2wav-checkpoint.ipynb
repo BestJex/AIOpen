{
 "cells": [
  {
   "cell_type": "markdown",
   "metadata": {},
   "source": [
    "# 1. 根据dataset分类文件，下载youtube文件\n",
    "\n",
    "###  以 [Engine knocking](https://research.google.com/audioset///dataset/engine_knocking.html) 为例"
   ]
  },
  {
   "cell_type": "code",
   "execution_count": 1,
   "metadata": {
    "scrolled": true
   },
   "outputs": [
    {
     "name": "stdout",
     "output_type": "stream",
     "text": [
      "350,/m/01h82_,\"Engine knocking\"\r\n"
     ]
    }
   ],
   "source": [
    "!grep 'Engine knocking' class_labels_indices.csv "
   ]
  },
  {
   "cell_type": "code",
   "execution_count": 20,
   "metadata": {},
   "outputs": [
    {
     "ename": "SyntaxError",
     "evalue": "invalid syntax (<ipython-input-20-392d9a390dc7>, line 6)",
     "output_type": "error",
     "traceback": [
      "\u001b[0;36m  File \u001b[0;32m\"<ipython-input-20-392d9a390dc7>\"\u001b[0;36m, line \u001b[0;32m6\u001b[0m\n\u001b[0;31m    cat ../../engine_knock_bal.csv | ../../download.sh\u001b[0m\n\u001b[0m         ^\u001b[0m\n\u001b[0;31mSyntaxError\u001b[0m\u001b[0;31m:\u001b[0m invalid syntax\n"
     ]
    }
   ],
   "source": [
    "# balance\n",
    "!cat balanced_train_segments.csv | grep /m/01h82_ > engine_knock_bal.csv\n",
    "\n",
    "mkdir -p knock_bal/org\n",
    "# 进入 knock_bal/org 目录\n",
    "cat ../../engine_knock_bal.csv | ../../download.sh"
   ]
  },
  {
   "cell_type": "code",
   "execution_count": null,
   "metadata": {},
   "outputs": [],
   "source": [
    "# unbalance\n",
    "!cat unbalanced_train_segments.csv | grep /m/01h82_ > engine_knock_unbal.csv\n",
    "\n",
    "mkdir -p knock_unbal/org\n",
    "# 进入 knock_unbal/org 目录\n",
    "cat ../../engine_knock_unbal.csv | ../../download.sh"
   ]
  },
  {
   "cell_type": "code",
   "execution_count": null,
   "metadata": {},
   "outputs": [],
   "source": [
    "# validation\n",
    "!cat eval_segments.csv | grep /m/01h82_ > engine_knock_val.csv\n",
    "\n",
    "mkdir -p knock_val/org\n",
    "# 进入 knock_val/org 目录\n",
    "cat ../../engine_knock_val.csv | ../../download.sh"
   ]
  },
  {
   "cell_type": "markdown",
   "metadata": {},
   "source": [
    "# 2. 读取目录下所有音、视频文件，存为 .wav 音频文件"
   ]
  },
  {
   "cell_type": "code",
   "execution_count": null,
   "metadata": {},
   "outputs": [],
   "source": [
    "# ffmpeg convert\n",
    "cd knock_bal\n",
    "mkdir -p wav\n",
    "cd org\n",
    "# convert all files to *.wav files\n",
    "../../ffmpeg_convert.sh"
   ]
  },
  {
   "cell_type": "code",
   "execution_count": null,
   "metadata": {},
   "outputs": [],
   "source": []
  }
 ],
 "metadata": {
  "kernelspec": {
   "display_name": "Python 3",
   "language": "python",
   "name": "python3"
  },
  "language_info": {
   "codemirror_mode": {
    "name": "ipython",
    "version": 3
   },
   "file_extension": ".py",
   "mimetype": "text/x-python",
   "name": "python",
   "nbconvert_exporter": "python",
   "pygments_lexer": "ipython3",
   "version": "3.6.8"
  },
  "varInspector": {
   "cols": {
    "lenName": 16,
    "lenType": 16,
    "lenVar": 40
   },
   "kernels_config": {
    "python": {
     "delete_cmd_postfix": "",
     "delete_cmd_prefix": "del ",
     "library": "var_list.py",
     "varRefreshCmd": "print(var_dic_list())"
    },
    "r": {
     "delete_cmd_postfix": ") ",
     "delete_cmd_prefix": "rm(",
     "library": "var_list.r",
     "varRefreshCmd": "cat(var_dic_list()) "
    }
   },
   "types_to_exclude": [
    "module",
    "function",
    "builtin_function_or_method",
    "instance",
    "_Feature"
   ],
   "window_display": false
  }
 },
 "nbformat": 4,
 "nbformat_minor": 2
}
